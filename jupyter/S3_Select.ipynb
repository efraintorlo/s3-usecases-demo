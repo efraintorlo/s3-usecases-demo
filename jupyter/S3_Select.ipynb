{
 "cells": [
  {
   "cell_type": "code",
   "execution_count": 1,
   "id": "766f39d5-76b3-4a2a-b215-5ac5270dfc89",
   "metadata": {},
   "outputs": [],
   "source": [
    "import json\n",
    "\n",
    "import boto3"
   ]
  },
  {
   "cell_type": "code",
   "execution_count": 2,
   "id": "eada5dd1-7234-4c18-8a34-06d49d7a3b64",
   "metadata": {},
   "outputs": [],
   "source": [
    "# Defined at ~/.aws/credentials\n",
    "AWS_PROFILE = 'demo'\n",
    "\n",
    "AWS_REGION = 'us-east-1'\n",
    "\n",
    "BUCKET = 's3-select-filtering-demo'\n",
    "\n",
    "KEY = 'users.csv'"
   ]
  },
  {
   "cell_type": "code",
   "execution_count": 3,
   "id": "4ea540ae-9bb2-4d98-9b0e-a5289b4c04a1",
   "metadata": {},
   "outputs": [],
   "source": [
    "session = boto3.Session(profile_name=AWS_PROFILE, region_name=AWS_REGION)\n",
    "\n",
    "s3 = session.resource('s3')"
   ]
  },
  {
   "cell_type": "markdown",
   "id": "374e4fa0-2c9f-4b1b-a69a-b24688f18bf9",
   "metadata": {},
   "source": [
    "# Write on S3"
   ]
  },
  {
   "cell_type": "code",
   "execution_count": 28,
   "id": "c30908a6-0983-4efd-9fb1-619ede5fcd49",
   "metadata": {},
   "outputs": [
    {
     "name": "stdout",
     "output_type": "stream",
     "text": [
      "id,email,name,lastname,birthdate,created_at\n",
      "1,john@test.com,john,doe,1980-01-01T,2023-01-01T15:00:00\n",
      "2,jane@test.com,jane,doe,1980-01-01T,2023-01-01T03:00:00\n",
      "3,johnsmith@test.com,john,smith,1990-01-01T,2023-01-01T11:00:00\n",
      "4,janesmith@test.com,jane,smith,1990-01-01T,2023-01-01T12:00:00\n",
      "5,michael@test.com,michael,smith,2022-01-01T,2023-01-15T01:00:00"
     ]
    }
   ],
   "source": [
    "!cat ../data/users.csv"
   ]
  },
  {
   "cell_type": "code",
   "execution_count": 62,
   "id": "bef6e3c1-0f7f-4c79-a575-338ca9949e7b",
   "metadata": {},
   "outputs": [],
   "source": [
    "res = s3.Object(BUCKET, KEY).put(Body=open(f'../data/{KEY}', 'rb'))"
   ]
  },
  {
   "cell_type": "markdown",
   "id": "3c0a8d18-8748-49c9-952a-cdd909408a69",
   "metadata": {},
   "source": [
    "# Filter data in S3"
   ]
  },
  {
   "cell_type": "code",
   "execution_count": 6,
   "id": "cc20ae23-c0c3-4911-bd20-572a81700b8b",
   "metadata": {},
   "outputs": [],
   "source": [
    "def execute_query(bucket, key, query, output_type='JSON'):\n",
    "    \n",
    "    res = s3.meta.client.select_object_content(\n",
    "        Bucket=bucket, \n",
    "        Key=key,\n",
    "        ExpressionType='SQL',\n",
    "        Expression=query,\n",
    "        InputSerialization={'CSV': {\"FileHeaderInfo\": \"Use\"}, 'CompressionType': 'NONE'},\n",
    "        OutputSerialization={output_type: {}},\n",
    "    )\n",
    "    records = []\n",
    "    for event in res['Payload']: # Payload is an EventStream\n",
    "        if 'Records' in event:\n",
    "            if output_type == 'JSON':\n",
    "                records.extend([json.loads(e) for e in event['Records']['Payload'].decode('utf-8').split()])\n",
    "            else:\n",
    "                records.extend([e for e in event['Records']['Payload'].decode('utf-8').split()])\n",
    "    return records"
   ]
  },
  {
   "cell_type": "markdown",
   "id": "fec36a38-8b90-4273-a9b8-b74cf724be12",
   "metadata": {},
   "source": [
    "# Execute SQL Query"
   ]
  },
  {
   "cell_type": "code",
   "execution_count": 75,
   "id": "34b32c2c-791b-489a-9adf-02db3fd1b46d",
   "metadata": {},
   "outputs": [],
   "source": [
    "QUERY = \"SELECT s.email, s.created_at FROM s3object s WHERE s.created_at > '2022-10-01'\""
   ]
  },
  {
   "cell_type": "markdown",
   "id": "ebd15e2a-3dd0-4edc-8e4a-b2157645832f",
   "metadata": {},
   "source": [
    "### As `JSON`"
   ]
  },
  {
   "cell_type": "code",
   "execution_count": 76,
   "id": "3088b48f-6175-4b48-95c1-d9b01a6bee19",
   "metadata": {},
   "outputs": [
    {
     "name": "stdout",
     "output_type": "stream",
     "text": [
      "CPU times: user 18.6 ms, sys: 0 ns, total: 18.6 ms\n",
      "Wall time: 642 ms\n"
     ]
    },
    {
     "data": {
      "text/plain": [
       "[{'email': 'janesmith@test.com', 'created_at': '2022-12-01T12:00:00'},\n",
       " {'email': 'michael@test.com', 'created_at': '2023-01-15T01:00:00'}]"
      ]
     },
     "execution_count": 76,
     "metadata": {},
     "output_type": "execute_result"
    }
   ],
   "source": [
    "%%time\n",
    "execute_query(bucket=BUCKET, key=KEY, query=QUERY, output_type='JSON')"
   ]
  },
  {
   "cell_type": "markdown",
   "id": "a0726b91-cab4-42db-9e33-1e5f41ac63ed",
   "metadata": {},
   "source": [
    "### As `CSV` "
   ]
  },
  {
   "cell_type": "code",
   "execution_count": 77,
   "id": "58f20053-13e3-4d2b-8e34-e06aa0114eb1",
   "metadata": {},
   "outputs": [
    {
     "data": {
      "text/plain": [
       "['janesmith@test.com,2022-12-01T12:00:00',\n",
       " 'michael@test.com,2023-01-15T01:00:00']"
      ]
     },
     "execution_count": 77,
     "metadata": {},
     "output_type": "execute_result"
    }
   ],
   "source": [
    "execute_query(bucket=BUCKET, key=KEY, query=QUERY, output_type='CSV')"
   ]
  },
  {
   "cell_type": "code",
   "execution_count": null,
   "id": "1fbb5c6c-6f82-4b63-aaac-ffbbdbc8a882",
   "metadata": {},
   "outputs": [],
   "source": []
  }
 ],
 "metadata": {
  "kernelspec": {
   "display_name": "Python 3 (ipykernel)",
   "language": "python",
   "name": "python3"
  },
  "language_info": {
   "codemirror_mode": {
    "name": "ipython",
    "version": 3
   },
   "file_extension": ".py",
   "mimetype": "text/x-python",
   "name": "python",
   "nbconvert_exporter": "python",
   "pygments_lexer": "ipython3",
   "version": "3.11.1"
  }
 },
 "nbformat": 4,
 "nbformat_minor": 5
}
